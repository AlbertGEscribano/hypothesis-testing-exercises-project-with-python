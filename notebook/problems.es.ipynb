{
 "cells": [
  {
   "cell_type": "markdown",
   "id": "d9d036c6",
   "metadata": {},
   "source": [
    "# Problemas de prueba de hipótesis"
   ]
  },
  {
   "cell_type": "markdown",
   "id": "d157c4db",
   "metadata": {},
   "source": [
    "## Ejercicio 1\n",
    "\n",
    "Usted es un nutricionista que investiga dos tipos diferentes de dietas para ver si existe una diferencia significativa en la pérdida de peso después de un mes. Eliges dos grupos aleatorios de personas; un grupo sigue la primera dieta y el otro sigue la segunda. Al final del mes, se registra la pérdida de peso (en kg) de cada persona:\n",
    "\n",
    "| Diet 1 | Diet 2 |\n",
    "|:-------|:-------|\n",
    "| 2.0 | 3.0 |\n",
    "| 2.5 | 3.2 |\n",
    "| 3.0 | 3.1 |\n",
    "| 2.8 | 2.9 |\n",
    "| 2.3 | 2.8 |\n",
    "| 2.7 | 3.0 |\n",
    "| 2.5 | 3.2 |\n",
    "\n",
    "Con estos datos se busca responder a la siguiente pregunta: ¿Existe una diferencia significativa en la pérdida de peso promedio entre las personas que siguieron la primera dieta y las que siguieron la segunda dieta?\n",
    "\n",
    "Para sacar conclusiones, siga los siguientes puntos:\n",
    "\n",
    "-Enunciar la hipótesis: hipótesis nula y alternativa.\n",
    "-Realizar la prueba para comprobar la hipótesis. Puede utilizar la prueba t de Student.\n",
    "-Analizar las conclusiones."
   ]
  },
  {
   "cell_type": "code",
   "execution_count": null,
   "id": "8e0f3cf0",
   "metadata": {},
   "outputs": [
    {
     "name": "stdout",
     "output_type": "stream",
     "text": [
      "Media Dieta 1: 2.54, Desviación estándar Dieta 1: 0.33\n",
      "Media Dieta 2: 3.03, Desviación estándar Dieta 2: 0.15\n",
      "Valor t: -3.5383\n",
      "Valor p: 0.0041\n",
      "Rechazamos la hipótesis nula: hay una diferencia significativa en la pérdida de peso.\n"
     ]
    }
   ],
   "source": [
    "# TODO\n",
    "\n",
    "import numpy as np\n",
    "from scipy import stats\n",
    "\n",
    "# Hipótesis\n",
    "(H_0) = \"El grupo con la dieta 1 y 2 presentan los mismo resultados.No hay diferencias significativas. \"\n",
    "(H_1) = \"Existen diferencias de peso significativas entre los dos grupos.\" \n",
    "\n",
    "# Prueba de T Student = valor t , grados de libertad y valor p.\n",
    "\n",
    "# Datos de las dos dietas\n",
    "dieta_1 = np.array([2.0, 2.5, 3.0, 2.8, 2.3, 2.7, 2.5])\n",
    "dieta_2 = np.array([3.0, 3.2, 3.1, 2.9, 2.8, 3.0, 3.2])\n",
    "\n",
    "# Calculamos medias y desviaciones estándard para las dos dietas, ddof = Delta degrees of freedom que será 1 al trabajar con una muestra. \n",
    "media_1 = np.mean(dieta_1)\n",
    "media_2 = np.mean(dieta_2)\n",
    "desviacion_1 = np.std(dieta_1, ddof=1)\n",
    "desviacion_2 = np.std(dieta_2, ddof=1)\n",
    "\n",
    "print(f\"Media Dieta 1: {media_1:.2f}, Desviación estándar Dieta 1: {desviacion_1:.2f}\")\n",
    "print(f\"Media Dieta 2: {media_2:.2f}, Desviación estándar Dieta 2: {desviacion_2:.2f}\")\n",
    "\n",
    "# Realizamos la prueba t de Student para cada muestra\n",
    "\n",
    "t_stat, p_value = stats.ttest_ind(dieta_1, dieta_2)\n",
    "\n",
    "print(f\"Valor t: {t_stat:.4f}\")\n",
    "print(f\"Valor p: {p_value:.4f}\")\n",
    "\n",
    "# Comparar el valor p con el nivel de significancia (0.05)\n",
    "if p_value < 0.05:\n",
    "    print(\"Hipótesis nula RECHAZADA: hay una diferencia significativa en la pérdida de peso.\")\n",
    "else:\n",
    "    print(\"Hhipótesis nula NO RECHAZADA: no hay una diferencia significativa en la pérdida de peso.\")\n"
   ]
  },
  {
   "cell_type": "markdown",
   "id": "40ccc0fd",
   "metadata": {},
   "source": [
    "Los resultados de la media ya nos indican que los pacientes de la dieta 2 han obtenido 0,5kg de pérdida de peso más que los de la dieta 1, lo que ya es un primer indicativo de que la dieta 2 funciona mejor que la 1. \n",
    "\n",
    "Al compararlo con la prueba t Students, vemos que hay una diferencia significativa y que por lo tanto queda probado que los resultados de la dieta 2 son mejores. "
   ]
  },
  {
   "cell_type": "markdown",
   "id": "f432e18e",
   "metadata": {},
   "source": [
    "## ANOVA\n",
    "\n",
    "**ANOVA** (*Analysis of Variance - Análisis de variación*) Es una técnica estadística utilizada para comparar las medidas de dos o más grupos. La idea detrás de ANOVA es descomponer la variabilidad total de los datos en dos componentes: variabilidad entre grupos y variabilidad dentro de los grupos:\n",
    "\n",
    "- **Variabilidad entre grupos**: Esta variabilidad se refiere a las diferencias entre las medias del grupo. Si esta variabilidad es considerablemente mayor que la variabilidad dentro del grupo, podría ser una indicación de que al menos una de las medias del grupo es diferente.\n",
    "- **Variabilidad dentro del grupo**: Esta variabilidad se refiere a la dispersión de los datos dentro de cada grupo. Si todos los grupos tienen una variabilidad similar, entonces cualquier diferencia notable en las medias de los grupos podría considerarse significativa.\n",
    "\n",
    "Las hipótesis en ANOVA suelen incluir:\n",
    "\n",
    "- **Hipótesis nula** ($H₀$): Las medias de todos los grupos son iguales.\n",
    "- **Hipótesis alternativa** ($H₁$): Al menos una de las medias del grupo es diferente.\n",
    "\n",
    "Si el resultado de la prueba ANOVA es significativo (por ejemplo, un valor p inferior a un umbral como 0,05), esto sugiere que al menos la media de un grupo es diferente."
   ]
  },
  {
   "cell_type": "markdown",
   "id": "fc5f3721",
   "metadata": {},
   "source": [
    "## Ejercicio 2\n",
    "\n",
    "Un agricultor decide probar tres tipos diferentes de fertilizantes para determinar si alguno es superior en términos de producción de maíz. El agricultor planta maíz en 15 parcelas idénticas y utiliza los tres fertilizantes (5 parcelas para cada tipo). Al final de la temporada mide el rendimiento de maíz (en kg) de cada parcela, con el siguiente resultado:\n",
    "\n",
    "| Fertilizante 1 | Fertilizante 2 | Fertilizante 3 |\n",
    "|:-------------|:-------------|:-------------|\n",
    "| 20 | 22 | 24 |\n",
    "| 21 | 21 | 23 |\n",
    "| 20 | 23 | 22 |\n",
    "| 19 | 22 | 23 |\n",
    "| 20 | 21 | 24 |\n",
    "\n",
    "Con estos datos busca responder la siguiente pregunta: ¿Existe una diferencia significativa en el rendimiento promedio del maíz entre los tres tipos de fertilizantes?\n",
    "\n",
    "Para ayudarte, sigue los siguientes puntos:\n",
    "\n",
    "-Enunciar la hipótesis: hipótesis nula y alternativa.\n",
    "-Realizar la prueba ANOVA.\n",
    "-Analizar las conclusiones.\n",
    "-Si un fertilizante es mejor que otro, ¿cómo podemos saberlo?"
   ]
  },
  {
   "cell_type": "code",
   "execution_count": null,
   "id": "eecad0ca",
   "metadata": {},
   "outputs": [
    {
     "name": "stdout",
     "output_type": "stream",
     "text": [
      "Valor F: 20.3158\n",
      "Valor p: 0.0001\n",
      "Hipótesis nula RECHAZADA: hay una diferencia significativa en el rendimiento promedio entre los fertilizantes.\n",
      "El fertilizante número 3 ha dado mejores resultados (23.2) que el fertilizante 2 (21.8) y que el fertilizante 1(23.2)\n"
     ]
    }
   ],
   "source": [
    "# TODO\n",
    "\n",
    "# Hipótesis\n",
    "(H_0) = \"Los tres grupos han obtenido resultados similares. No hay diferencias significativas en el rendimiento promedio \"\n",
    "(H_1) = \"Existen diferencias de producción ya que almenos un grupo tiene un rendimiento promedio superior\" \n",
    "\n",
    "# Datos de los tres fertilizantes\n",
    "fertilizante_1 = np.array([20, 21, 20, 19, 20])\n",
    "fertilizante_2 = np.array([22, 21, 23, 22, 21])\n",
    "fertilizante_3 = np.array([24, 23, 22, 23, 24])\n",
    "\n",
    "# Prueba ANOVA = Analisis de Varianza\n",
    "f_stat, p_value = stats.f_oneway(fertilizante_1, fertilizante_2, fertilizante_3)\n",
    "\n",
    "print(f\"Valor F: {f_stat:.4f}\")\n",
    "print(f\"Valor p: {p_value:.4f}\")\n",
    "\n",
    "# Comparar el valor p con el nivel de significancia (0.05)\n",
    "if p_value < 0.05:\n",
    "    print(\"Hipótesis nula RECHAZADA: hay una diferencia significativa en el rendimiento promedio entre los fertilizantes.\")\n",
    "else:\n",
    "    print(\"Hipótesis nula NO RECHAZADA: no hay una diferencia significativa en el rendimiento promedio entre los fertilizantes.\")\n",
    "\n",
    "# Como saber si un fertilizante es mejor que otro. Cálculo de medias. \n",
    "\n",
    "media_f1 = np.mean(fertilizante_1)\n",
    "media_f2 = np.mean(fertilizante_2)\n",
    "media_f3 = np.mean(fertilizante_3)\n",
    "\n",
    "print(f'El fertilizante número 3 ha dado mejores resultados ({media_f3}) que el fertilizante 2 ({media_f2}) y que el fertilizante 1({media_f3})')"
   ]
  },
  {
   "cell_type": "markdown",
   "id": "eaa29f11",
   "metadata": {},
   "source": [
    "CONCLUSIONES\n",
    "\n",
    "El valor F indica la relación entre la variabilidad de los grupos y la variabilidad dentro de los grupos. Un valor alto indica que las diferencias entre los grupos son mayores que las diferencias dentro de los grupos.\n",
    "Si el valor P es menor que 0.05, rechazamos la hipotesis nula y concluimos que si hay diferencias significativas entre los fertilizantes. \n",
    "\n",
    "El valor F es alto, por lo que podemos establecer que la variabilidad entre grupos es alta y el valor P es bajo por lo que rechazamos la idea de que no hay diferencias significativas entre fertilizantes.\n",
    "\n",
    "En cuanto a cual es mejor, el rendimiento medio del fertilizante 3 es superior a los otros dos. \n",
    "\n"
   ]
  },
  {
   "cell_type": "markdown",
   "id": "e33aae2f",
   "metadata": {},
   "source": []
  }
 ],
 "metadata": {
  "kernelspec": {
   "display_name": "Albert",
   "language": "python",
   "name": "python3"
  },
  "language_info": {
   "codemirror_mode": {
    "name": "ipython",
    "version": 3
   },
   "file_extension": ".py",
   "mimetype": "text/x-python",
   "name": "python",
   "nbconvert_exporter": "python",
   "pygments_lexer": "ipython3",
   "version": "3.11.10"
  }
 },
 "nbformat": 4,
 "nbformat_minor": 5
}
